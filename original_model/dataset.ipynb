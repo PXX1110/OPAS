{
 "cells": [
  {
   "cell_type": "markdown",
   "metadata": {},
   "source": [
    "## dataset.ipynb: preprocess the dataset "
   ]
  },
  {
   "cell_type": "code",
   "execution_count": 1,
   "metadata": {},
   "outputs": [],
   "source": [
    "# Import the necessary libraries\n",
    "import numpy as np\n",
    "from sklearn.decomposition import PCA\n",
    "import scipy.io as sio\n",
    "from sklearn.model_selection import train_test_split, StratifiedShuffleSplit\n",
    "from sklearn import preprocessing\n",
    "import os\n",
    "import random\n",
    "from random import shuffle\n",
    "from skimage.transform import rotate\n",
    "import scipy.ndimage\n",
    "from spectral import *"
   ]
  },
  {
   "cell_type": "code",
   "execution_count": 2,
   "metadata": {},
   "outputs": [],
   "source": [
    "#  load the Indian pines dataset which is the .mat format\n",
    "def loadIndianPinesData():\n",
    "    data_path = os.path.join(os.getcwd(), 'data')\n",
    "    data = sio.loadmat(os.path.join(data_path, \n",
    "                      'Indian_pines.mat'))['indian_pines']\n",
    "    labels = sio.loadmat(os.path.join(data_path, \n",
    "                        'Indian_pines_gt.mat'))['indian_pines_gt']\n",
    "    \n",
    "    return data, labels"
   ]
  },
  {
   "cell_type": "code",
   "execution_count": 3,
   "metadata": {},
   "outputs": [],
   "source": [
    "#  load the Indian pines dataset which is HSI format\n",
    "#  refered from http://www.spectralpython.net/fileio.html\n",
    "def loadHSIData():\n",
    "    data_path = os.path.join(os.getcwd(), 'HSI_data')\n",
    "    data = open_image(os.path.join(data_path, '92AV3C.lan')).load()\n",
    "    data = np.array(data).astype(np.int32)\n",
    "    labels = open_image(os.path.join(data_path, '92AV3GT.GIS')).load()\n",
    "    labels = np.array(labels).astype(np.uint8)\n",
    "    labels.shape = (145, 145)\n",
    "    return data, labels"
   ]
  },
  {
   "cell_type": "code",
   "execution_count": 4,
   "metadata": {},
   "outputs": [],
   "source": [
    "#  split data to Train and Test Set\n",
    "def splitTrainTestSet(X, y, classnum=15, testRatio=0.20):\n",
    "#     X_train, X_test, y_train, y_test = train_test_split(X, y, \n",
    "#                                test_size=testRatio, random_state=345, stratify=y)\n",
    "    ss=StratifiedShuffleSplit(n_splits=classnum, test_size=testRatio, \n",
    "                              train_size=1-testRatio, random_state=0)\n",
    "    \n",
    "    for train_index, test_index in ss.split(X, y):\n",
    "        print(\"TRAIN:\", train_index, \"TEST:\", test_index)\n",
    "        X_train, X_test = X[train_index], X[test_index]\n",
    "        y_train, y_test = y[train_index], y[test_index]\n",
    "        \n",
    "    return X_train, X_test, y_train, y_test"
   ]
  },
  {
   "cell_type": "code",
   "execution_count": 5,
   "metadata": {},
   "outputs": [],
   "source": [
    "#  over sample \n",
    "def oversampleWeakClasses(X, y):\n",
    "    uniqueLabels, labelCounts = np.unique(y, return_counts=True)\n",
    "    maxCount = np.max(labelCounts)\n",
    "    labelInverseRatios = maxCount / labelCounts  \n",
    "    # repeat for every label and concat\n",
    "    newX = X[y == uniqueLabels[0], :, :, :].repeat(round(labelInverseRatios[0]), \n",
    "                                                   axis=0)\n",
    "    newY = y[y == uniqueLabels[0]].repeat(round(labelInverseRatios[0]), axis=0)\n",
    "    for label, labelInverseRatio in zip(uniqueLabels[1:], labelInverseRatios[1:]):\n",
    "        cX = X[y== label,:,:,:].repeat(round(labelInverseRatio), axis=0)\n",
    "        cY = y[y == label].repeat(round(labelInverseRatio), axis=0)\n",
    "        newX = np.concatenate((newX, cX))\n",
    "        newY = np.concatenate((newY, cY))\n",
    "    np.random.seed(seed=42)\n",
    "    rand_perm = np.random.permutation(newY.shape[0])\n",
    "    newX = newX[rand_perm, :, :, :]\n",
    "    newY = newY[rand_perm]\n",
    "    return newX, newY"
   ]
  },
  {
   "cell_type": "code",
   "execution_count": 6,
   "metadata": {},
   "outputs": [],
   "source": [
    "#  standartize\n",
    "def standartizeData(X):\n",
    "    newX = np.reshape(X, (-1, X.shape[2]))\n",
    "    scaler = preprocessing.StandardScaler().fit(newX)  \n",
    "    newX = scaler.transform(newX)\n",
    "    newX = np.reshape(newX, (X.shape[0],X.shape[1],X.shape[2]))\n",
    "    return newX, scaler"
   ]
  },
  {
   "cell_type": "code",
   "execution_count": 7,
   "metadata": {},
   "outputs": [],
   "source": [
    "#  apply PCA preprocessing for data sets\n",
    "def applyPCA(X, numComponents=75):\n",
    "    newX = np.reshape(X, (-1, X.shape[2]))\n",
    "    pca = PCA(n_components=numComponents, whiten=True)\n",
    "    newX = pca.fit_transform(newX)\n",
    "    newX = np.reshape(newX, (X.shape[0],X.shape[1], numComponents))\n",
    "    return newX, pca"
   ]
  },
  {
   "cell_type": "code",
   "execution_count": 8,
   "metadata": {},
   "outputs": [],
   "source": [
    "#  pad zeros to dataset\n",
    "def padWithZeros(X, margin=2):\n",
    "    newX = np.zeros((X.shape[0] + 2 * margin, X.shape[1] + 2* margin, \n",
    "                     X.shape[2]))\n",
    "    x_offset = margin\n",
    "    y_offset = margin\n",
    "    newX[x_offset:X.shape[0] + x_offset, y_offset:X.shape[1] + \n",
    "         y_offset, :] = X\n",
    "    return newX"
   ]
  },
  {
   "cell_type": "code",
   "execution_count": 9,
   "metadata": {},
   "outputs": [],
   "source": [
    "#  create Patches for dataset\n",
    "def createPatches(X, y, windowSize=5, removeZeroLabels = True):\n",
    "    margin = int((windowSize - 1) / 2)\n",
    "    zeroPaddedX = padWithZeros(X, margin=margin)\n",
    "    # split patches\n",
    "    patchesData = np.zeros((X.shape[0] * X.shape[1], windowSize, \n",
    "                            windowSize, X.shape[2]))\n",
    "    patchesLabels = np.zeros((X.shape[0] * X.shape[1]))\n",
    "    patchIndex = 0\n",
    "    for r in range(margin, zeroPaddedX.shape[0] - margin):\n",
    "        for c in range(margin, zeroPaddedX.shape[1] - margin):\n",
    "            patch = zeroPaddedX[r - margin:r + margin + 1, c - \n",
    "                                margin:c + margin + 1]   \n",
    "            patchesData[patchIndex, :, :, :] = patch\n",
    "            patchesLabels[patchIndex] = y[r-margin, c-margin]\n",
    "            patchIndex = patchIndex + 1\n",
    "    if removeZeroLabels:\n",
    "        patchesData = patchesData[patchesLabels>0,:,:,:]\n",
    "        patchesLabels = patchesLabels[patchesLabels>0]\n",
    "        patchesLabels -= 1\n",
    "    return patchesData, patchesLabels"
   ]
  },
  {
   "cell_type": "code",
   "execution_count": 10,
   "metadata": {},
   "outputs": [],
   "source": [
    "#  Augment Data\n",
    "def AugmentData(X_train):\n",
    "    for i in range(int(X_train.shape[0]/2)):\n",
    "        patch = X_train[i,:,:,:]\n",
    "        num = random.randint(0,2)\n",
    "        if (num == 0):\n",
    "            \n",
    "            flipped_patch = np.flipud(patch)\n",
    "        if (num == 1):\n",
    "            \n",
    "            flipped_patch = np.fliplr(patch)\n",
    "        if (num == 2):\n",
    "            \n",
    "            no = random.randrange(-180,180,30)\n",
    "            flipped_patch = scipy.ndimage.interpolation.rotate(patch, \n",
    "                            no,axes=(1, 0), reshape=False, output=None, \n",
    "                            order=3, mode='constant', cval=0.0, prefilter=False)\n",
    "        \n",
    "    patch2 = flipped_patch\n",
    "    X_train[i,:,:,:] = patch2\n",
    "    \n",
    "    return X_train"
   ]
  },
  {
   "cell_type": "code",
   "execution_count": 12,
   "metadata": {},
   "outputs": [],
   "source": [
    "# save Preprocessed Data to file\n",
    "def savePreprocessedData(path, X_trainPatches, X_testPatches, y_trainPatches, \n",
    "                         y_testPatches, X_all, y_all, windowSize, wasPCAapplied = False, \n",
    "                         numPCAComponents = 0, testRatio = 0.25):\n",
    "    \n",
    "    data_path = os.path.join(os.getcwd(), path)\n",
    "\n",
    "    if wasPCAapplied:\n",
    "        with open(os.path.join(data_path, \"XtrainWindowSize\") + str(windowSize) + \n",
    "                  \"PCA\" + str(numPCAComponents) + \"testRatio\" + str(testRatio) + \n",
    "                  \".npy\", 'bw') as outfile:\n",
    "            np.save(outfile, X_trainPatches)\n",
    "        with open(os.path.join(data_path, \"XtestWindowSize\") + str(windowSize) + \n",
    "                  \"PCA\" + str(numPCAComponents) + \"testRatio\" + str(testRatio) + \n",
    "                  \".npy\", 'bw') as outfile:\n",
    "            np.save(outfile, X_testPatches)\n",
    "        with open(os.path.join(data_path, \"ytrainWindowSize\") + str(windowSize) + \n",
    "                  \"PCA\" + str(numPCAComponents) + \"testRatio\" + str(testRatio) + \n",
    "                  \".npy\", 'bw') as outfile:\n",
    "            np.save(outfile, y_trainPatches)\n",
    "        with open(os.path.join(data_path, \"ytestWindowSize\") + str(windowSize) + \n",
    "                  \"PCA\" + str(numPCAComponents) + \"testRatio\" + str(testRatio) + \n",
    "                  \".npy\", 'bw') as outfile:\n",
    "            np.save(outfile, y_testPatches)\n",
    "        \n",
    "        with open(os.path.join(data_path, \"XAllWindowSize\") + str(windowSize) + \n",
    "                  \"PCA\" + str(numPCAComponents) + \"testRatio\" + str(testRatio) + \n",
    "                  \".npy\", 'bw') as outfile:\n",
    "            np.save(outfile, X_all)\n",
    "        with open(os.path.join(data_path, \"yAllWindowSize\") + str(windowSize) + \n",
    "                  \"PCA\" + str(numPCAComponents) + \"testRatio\" + str(testRatio) + \n",
    "                  \".npy\", 'bw') as outfile:\n",
    "            np.save(outfile, y_all)\n",
    "    else:\n",
    "        with open(os.path.join(data_path, \"preXtrainWindowSize\") + str(windowSize) + \n",
    "                  \".npy\", 'bw') as outfile:\n",
    "            np.save(outfile, X_trainPatches)\n",
    "        with open(os.path.join(data_path, \"preXtestWindowSize\") + str(windowSize) + \n",
    "                  \".npy\", 'bw') as outfile:\n",
    "            np.save(outfile, X_testPatches)\n",
    "        with open(os.path.join(data_path, \"preytrainWindowSize\") + str(windowSize) + \n",
    "                  \".npy\", 'bw') as outfile:\n",
    "            np.save(outfile, y_trainPatches)\n",
    "        with open(os.path.join(data_path, \"preytestWindowSize\") + str(windowSize) + \n",
    "                  \".npy\", 'bw') as outfile:\n",
    "            np.save(outfile, y_testPatches)\n",
    "            "
   ]
  },
  {
   "cell_type": "code",
   "execution_count": 13,
   "metadata": {},
   "outputs": [],
   "source": [
    "# Global Variables\n",
    "# The number of principal components to be retained in the PCA algorithm, \n",
    "# the number of retained features  n\n",
    "numComponents = 30\n",
    "# Patches windows size\n",
    "windowSize = 5\n",
    "# The proportion of Test sets\n",
    "testRatio = 0.20"
   ]
  },
  {
   "cell_type": "code",
   "execution_count": 14,
   "metadata": {},
   "outputs": [],
   "source": [
    "# Load dataset from file and apply PCA\n",
    "X, y = loadHSIData()\n",
    "# X, y = loadIndianPinesData()\n",
    "X, pca = applyPCA(X, numComponents=numComponents)"
   ]
  },
  {
   "cell_type": "code",
   "execution_count": 15,
   "metadata": {},
   "outputs": [
    {
     "data": {
      "image/png": "[encoded data removed]",
      "text/plain": [
       "<Figure size 720x720 with 1 Axes>"
      ]
     },
     "metadata": {
      "needs_background": "light"
     },
     "output_type": "display_data"
    }
   ],
   "source": [
    "ground_truth = imshow(classes=y, figsize=(10, 10))"
   ]
  },
  {
   "cell_type": "code",
   "execution_count": 16,
   "metadata": {
    "scrolled": false
   },
   "outputs": [
    {
     "name": "stdout",
     "output_type": "stream",
     "text": [
      "TRAIN: [ 6808  1018  5090 ...  6640  8427 10169] TEST: [7876 4591 2229 ... 7871 4556 4268]\n",
      "TRAIN: [ 388 1351 8426 ... 7972 3865 3123] TEST: [8731 1006 2648 ... 7748 9526 2574]\n",
      "TRAIN: [  955  2616 10222 ...  1113  9956  5676] TEST: [1911 4886 8093 ... 4416 3419 8160]\n",
      "TRAIN: [  480  6409 10142 ...  5973  1242  4276] TEST: [ 5750 10022  2446 ...  1650 10088  8362]\n",
      "TRAIN: [1341  429 1153 ... 4035 9595 6896] TEST: [ 8672  4759  1515 ...  6063  4526 10213]\n",
      "TRAIN: [ 4549  8543  2942 ... 10294   985   825] TEST: [ 9159  4752  8147 ...  1975 10041  9115]\n",
      "TRAIN: [ 211  534 8190 ... 2007 5149 5396] TEST: [3144 9547 5028 ... 6284 6268 9302]\n",
      "TRAIN: [6612 9988 2062 ...  689 4895 1583] TEST: [ 6643   359   969 ...  6008  5072 10299]\n",
      "TRAIN: [5973 6273 5957 ... 9051 5916 6934] TEST: [ 5858  4847  6217 ...  6443 10052  2131]\n",
      "TRAIN: [ 670 2628 1825 ... 1562 1646 6321] TEST: [1591 7659 4536 ... 6084 4514 8825]\n",
      "TRAIN: [3852 4270 2066 ... 9511 7417  428] TEST: [4691 9661 5341 ... 2165 8263 6779]\n",
      "TRAIN: [ 9314  8470 10152 ...  2440  2751  5206] TEST: [ 409 3949 7098 ... 9727 2797 7114]\n",
      "TRAIN: [1881 2627 8117 ... 6368 4429  574] TEST: [10258  5270  9862 ...  5150  8075  4396]\n",
      "TRAIN: [10210  1973  8715 ...  2562  7925  4332] TEST: [ 2483   460  9332 ...  4059 10009  2283]\n",
      "TRAIN: [7795 5918 5154 ...  924 4326  372] TEST: [5457 6036 9745 ... 9827 9733 5053]\n",
      "TRAIN: [ 1386  7616  9131 ...  1442   297 10075] TEST: [6874 8310 8865 ... 4002 4567 6242]\n"
     ]
    }
   ],
   "source": [
    "# Preprocess Data\n",
    "XPatches, yPatches = createPatches(X, y, windowSize=windowSize)\n",
    "X_train, X_test, y_train, y_test = splitTrainTestSet(XPatches, yPatches, \n",
    "                                                     y.max()-y.min(), testRatio)\n",
    "X_all = np.append(X_train, X_test, axis=0)\n",
    "y_all = np.append(y_train, y_test, axis=0)\n",
    "X_train, y_train = oversampleWeakClasses(X_train, y_train)\n",
    "# X_all, y_all = oversampleWeakClasses(X_all, y_all)\n",
    "X_train = AugmentData(X_train)\n",
    "# X_all = AugmentData(X_all)"
   ]
  },
  {
   "cell_type": "code",
   "execution_count": 17,
   "metadata": {},
   "outputs": [],
   "source": [
    "# save Preprocessed Data to file\n",
    "savePreprocessedData('predata', X_train, X_test, y_train, y_test, \n",
    "                     X_all, y_all, windowSize = windowSize, \n",
    "                     wasPCAapplied=True, numPCAComponents = numComponents, \n",
    "                     testRatio = testRatio)"
   ]
  },
  {
   "cell_type": "code",
   "execution_count": 18,
   "metadata": {},
   "outputs": [
    {
     "name": "stdout",
     "output_type": "stream",
     "text": [
      "TRAIN: [ 6808  1018  5090 ...  6640  8427 10169] TEST: [7876 4591 2229 ... 7871 4556 4268]\n",
      "TRAIN: [ 388 1351 8426 ... 7972 3865 3123] TEST: [8731 1006 2648 ... 7748 9526 2574]\n",
      "TRAIN: [  955  2616 10222 ...  1113  9956  5676] TEST: [1911 4886 8093 ... 4416 3419 8160]\n",
      "TRAIN: [  480  6409 10142 ...  5973  1242  4276] TEST: [ 5750 10022  2446 ...  1650 10088  8362]\n",
      "TRAIN: [1341  429 1153 ... 4035 9595 6896] TEST: [ 8672  4759  1515 ...  6063  4526 10213]\n",
      "TRAIN: [ 4549  8543  2942 ... 10294   985   825] TEST: [ 9159  4752  8147 ...  1975 10041  9115]\n",
      "TRAIN: [ 211  534 8190 ... 2007 5149 5396] TEST: [3144 9547 5028 ... 6284 6268 9302]\n",
      "TRAIN: [6612 9988 2062 ...  689 4895 1583] TEST: [ 6643   359   969 ...  6008  5072 10299]\n",
      "TRAIN: [5973 6273 5957 ... 9051 5916 6934] TEST: [ 5858  4847  6217 ...  6443 10052  2131]\n",
      "TRAIN: [ 670 2628 1825 ... 1562 1646 6321] TEST: [1591 7659 4536 ... 6084 4514 8825]\n",
      "TRAIN: [3852 4270 2066 ... 9511 7417  428] TEST: [4691 9661 5341 ... 2165 8263 6779]\n",
      "TRAIN: [ 9314  8470 10152 ...  2440  2751  5206] TEST: [ 409 3949 7098 ... 9727 2797 7114]\n",
      "TRAIN: [1881 2627 8117 ... 6368 4429  574] TEST: [10258  5270  9862 ...  5150  8075  4396]\n",
      "TRAIN: [10210  1973  8715 ...  2562  7925  4332] TEST: [ 2483   460  9332 ...  4059 10009  2283]\n",
      "TRAIN: [7795 5918 5154 ...  924 4326  372] TEST: [5457 6036 9745 ... 9827 9733 5053]\n",
      "TRAIN: [ 1386  7616  9131 ...  1442   297 10075] TEST: [6874 8310 8865 ... 4002 4567 6242]\n"
     ]
    }
   ],
   "source": [
    "from sklearn.model_selection import train_test_split, StratifiedShuffleSplit\n",
    "XPatches, yPatches = createPatches(X, y, windowSize=windowSize)\n",
    "ss=StratifiedShuffleSplit(n_splits=y.max()-y.min(), test_size=testRatio, \n",
    "                              train_size=1-testRatio, random_state=0)\n",
    "    \n",
    "for train_index, test_index in ss.split(XPatches, yPatches):\n",
    "    print(\"TRAIN:\", train_index, \"TEST:\", test_index)#获得索引值\n",
    "    X_train, X_test = XPatches[train_index], XPatches[test_index]#训练集对应的值\n",
    "    y_train, y_test = yPatches[train_index], yPatches[test_index]#类别集对应的值"
   ]
  },
  {
   "cell_type": "code",
   "execution_count": 19,
   "metadata": {},
   "outputs": [
    {
     "name": "stdout",
     "output_type": "stream",
     "text": [
      "6219000\n",
      "8292\n",
      "1555500\n",
      "2074\n"
     ]
    }
   ],
   "source": [
    "print(X_train.size)\n",
    "print(y_train.size)\n",
    "print(X_test.size)\n",
    "print(y_test.size)"
   ]
  },
  {
   "cell_type": "code",
   "execution_count": null,
   "metadata": {},
   "outputs": [],
   "source": []
  }
 ],
 "metadata": {
  "interpreter": {
   "hash": "a6d1ceb7a67475ef37517d34391e2bf1a870667851c542b6073624e2fda7d2ff"
  },
  "kernelspec": {
   "display_name": "Python 3.6 with tf",
   "language": "python",
   "name": "python3"
  },
  "language_info": {
   "codemirror_mode": {
    "name": "ipython",
    "version": 3
   },
   "file_extension": ".py",
   "mimetype": "text/x-python",
   "name": "python",
   "nbconvert_exporter": "python",
   "pygments_lexer": "ipython3",
   "version": "3.7.11"
  }
 },
 "nbformat": 4,
 "nbformat_minor": 2
}
